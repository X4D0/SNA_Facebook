{
  "nbformat": 4,
  "nbformat_minor": 0,
  "metadata": {
    "colab": {
      "name": "Project1_Group3.ipynb",
      "provenance": [],
      "collapsed_sections": [],
      "include_colab_link": true
    },
    "kernelspec": {
      "name": "python3",
      "display_name": "Python 3"
    },
    "language_info": {
      "name": "python"
    }
  },
  "cells": [
    {
      "cell_type": "markdown",
      "metadata": {
        "id": "view-in-github",
        "colab_type": "text"
      },
      "source": [
        "<a href=\"https://colab.research.google.com/github/X4D0/SNA_Facebook/blob/main/Project1_Group3.ipynb\" target=\"_parent\"><img src=\"https://colab.research.google.com/assets/colab-badge.svg\" alt=\"Open In Colab\"/></a>"
      ]
    },
    {
      "cell_type": "code",
      "metadata": {
        "id": "hWC3tHuF57Lw"
      },
      "source": [
        "from google.colab import drive\n",
        "drive.mount('/content/drive')"
      ],
      "execution_count": null,
      "outputs": []
    },
    {
      "cell_type": "code",
      "metadata": {
        "id": "q_QL-pEoxxD-"
      },
      "source": [
        "import networkx as nx\n",
        "import matplotlib.pyplot as plt\n",
        "import pandas as pd\n",
        "\n",
        "# Read Edge List\n",
        "G = nx.read_edgelist('/content/drive/MyDrive/Colab Notebooks/Dataset/facebook_combined.txt', create_using=nx.Graph(), nodetype=int)\n",
        "\n",
        "# Show Network Info\n",
        "print(nx.info(G))\n",
        "\n",
        "# Visualize the Graph\n",
        "pos = nx.spring_layout(G)\n",
        "plt.axis('off')\n",
        "nx.draw_networkx(G, pos=pos, with_labels=False, node_size=35, node_color='r', edgecolors='black')\n",
        "plt.show()\n"
      ],
      "execution_count": null,
      "outputs": []
    },
    {
      "cell_type": "code",
      "metadata": {
        "id": "szMWSn647VtM"
      },
      "source": [
        "# Count every Nodes Degree and input to Dataframe.\n",
        "def calculate_degree(G):\n",
        "    listDeg = []\n",
        "    listNode= []\n",
        "    for node in G.nodes():\n",
        "        temp = G.degree(node)\n",
        "        listDeg.append(temp),listNode.append(node)\n",
        "    return listDeg,listNode\n",
        "\n",
        "degree, node = calculate_degree(G)   \n",
        "data = {'Node': node,\n",
        "        'Degree': degree}\n",
        "dataframe = pd.DataFrame(data)\n",
        "dataframe.sort_values(by=['Degree'], inplace=True, ascending=False)\n",
        "print('Top 5 Influential User')\n",
        "dataframe.head()"
      ],
      "execution_count": null,
      "outputs": []
    },
    {
      "cell_type": "code",
      "metadata": {
        "id": "q1PmaTfNQxIQ"
      },
      "source": [
        "top = dataframe.iloc[0]\n",
        "print(\"The Most influential User based on SNAP Facebook Dataset \\nis Facebook Account with ID\",top[0],\"and have\",top[1],\"\\nFriends in his/her Facebook Account\")\n",
        "\n",
        "def listTopFriends(user):\n",
        "  topFriends = []\n",
        "  for friends in G.neighbors(top[0]):\n",
        "    topFriends.append(friends)\n",
        "  return topFriends\n",
        "\n",
        "temanInfluencer = listTopFriends(top[0])\n",
        "dataTeman = {'Friends List': temanInfluencer}\n",
        "df_friends = pd.DataFrame(dataTeman)\n",
        "df_friends"
      ],
      "execution_count": null,
      "outputs": []
    }
  ]
}