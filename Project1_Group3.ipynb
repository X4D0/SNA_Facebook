{
  "nbformat": 4,
  "nbformat_minor": 0,
  "metadata": {
    "colab": {
      "name": "Project1_Group3.ipynb",
      "provenance": [],
      "collapsed_sections": [],
      "include_colab_link": true
    },
    "kernelspec": {
      "name": "python3",
      "display_name": "Python 3"
    },
    "language_info": {
      "name": "python"
    }
  },
  "cells": [
    {
      "cell_type": "markdown",
      "metadata": {
        "id": "view-in-github",
        "colab_type": "text"
      },
      "source": [
        "<a href=\"https://colab.research.google.com/github/X4D0/SNA_Facebook/blob/main/Project1_Group3.ipynb\" target=\"_parent\"><img src=\"https://colab.research.google.com/assets/colab-badge.svg\" alt=\"Open In Colab\"/></a>"
      ]
    },
    {
      "cell_type": "code",
      "metadata": {
        "id": "hWC3tHuF57Lw",
        "colab": {
          "base_uri": "https://localhost:8080/"
        },
        "outputId": "7f305408-6cf2-4dbf-a2d0-3becff13c144"
      },
      "source": [
        "from google.colab import drive\n",
        "drive.mount('/content/drive')"
      ],
      "execution_count": 1,
      "outputs": [
        {
          "output_type": "stream",
          "text": [
            "Mounted at /content/drive\n"
          ],
          "name": "stdout"
        }
      ]
    },
    {
      "cell_type": "code",
      "metadata": {
        "id": "q_QL-pEoxxD-",
        "colab": {
          "base_uri": "https://localhost:8080/",
          "height": 336
        },
        "outputId": "86036d3b-d463-4e6c-b057-dc991297c451"
      },
      "source": [
        "import networkx as nx\n",
        "import matplotlib.pyplot as plt\n",
        "import pandas as pd\n",
        "\n",
        "# Read Edge List\n",
        "G = nx.read_edgelist('/content/drive/MyDrive/Colab Notebooks/Dataset/facebook_combined.txt', create_using=nx.Graph(), nodetype=int)\n",
        "\n",
        "# Show Network Info\n",
        "print(nx.info(G))\n",
        "\n",
        "# Visualize the Graph\n",
        "pos = nx.spring_layout(G)\n",
        "plt.axis('off')\n",
        "nx.draw_networkx(G, pos=pos, with_labels=False, node_size=35, node_color='r', edgecolors='black')\n",
        "plt.show()\n"
      ],
      "execution_count": 2,
      "outputs": [
        {
          "output_type": "stream",
          "text": [
            "Name: \n",
            "Type: Graph\n",
            "Number of nodes: 4039\n",
            "Number of edges: 88234\n",
            "Average degree:  43.6910\n"
          ],
          "name": "stdout"
        },
        {
          "output_type": "display_data",
          "data": {
            "image/png": "[encoded data removed]",
            "text/plain": [
              "<Figure size 432x288 with 1 Axes>"
            ]
          },
          "metadata": {
            "tags": []
          }
        }
      ]
    },
    {
      "cell_type": "code",
      "metadata": {
        "id": "szMWSn647VtM",
        "colab": {
          "base_uri": "https://localhost:8080/",
          "height": 361
        },
        "outputId": "68d4c949-e688-436b-8a54-ddf92bc83110"
      },
      "source": [
        "# Count every Nodes Degree and input to Dataframe.\n",
        "def calculate_degree(G):\n",
        "    listDeg = []\n",
        "    listNode= []\n",
        "    for node in G.nodes():\n",
        "        temp = G.degree(node)\n",
        "        listDeg.append(temp),listNode.append(node)\n",
        "    return listDeg,listNode\n",
        "\n",
        "degree, node = calculate_degree(G)   \n",
        "data = {'Node': node,\n",
        "        'Degree': degree}\n",
        "dataframe = pd.DataFrame(data)\n",
        "dataframe.sort_values(by=['Degree'], inplace=True, ascending=False)\n",
        "print('Top 10 Influential User')\n",
        "dataframe.head(10)"
      ],
      "execution_count": 11,
      "outputs": [
        {
          "output_type": "stream",
          "text": [
            "Top 10 Influential User\n"
          ],
          "name": "stdout"
        },
        {
          "output_type": "execute_result",
          "data": {
            "text/html": [
              "<div>\n",
              "<style scoped>\n",
              "    .dataframe tbody tr th:only-of-type {\n",
              "        vertical-align: middle;\n",
              "    }\n",
              "\n",
              "    .dataframe tbody tr th {\n",
              "        vertical-align: top;\n",
              "    }\n",
              "\n",
              "    .dataframe thead th {\n",
              "        text-align: right;\n",
              "    }\n",
              "</style>\n",
              "<table border=\"1\" class=\"dataframe\">\n",
              "  <thead>\n",
              "    <tr style=\"text-align: right;\">\n",
              "      <th></th>\n",
              "      <th>Node</th>\n",
              "      <th>Degree</th>\n",
              "    </tr>\n",
              "  </thead>\n",
              "  <tbody>\n",
              "    <tr>\n",
              "      <th>107</th>\n",
              "      <td>107</td>\n",
              "      <td>1045</td>\n",
              "    </tr>\n",
              "    <tr>\n",
              "      <th>351</th>\n",
              "      <td>1684</td>\n",
              "      <td>792</td>\n",
              "    </tr>\n",
              "    <tr>\n",
              "      <th>352</th>\n",
              "      <td>1912</td>\n",
              "      <td>755</td>\n",
              "    </tr>\n",
              "    <tr>\n",
              "      <th>1821</th>\n",
              "      <td>3437</td>\n",
              "      <td>547</td>\n",
              "    </tr>\n",
              "    <tr>\n",
              "      <th>0</th>\n",
              "      <td>0</td>\n",
              "      <td>347</td>\n",
              "    </tr>\n",
              "    <tr>\n",
              "      <th>1490</th>\n",
              "      <td>2543</td>\n",
              "      <td>294</td>\n",
              "    </tr>\n",
              "    <tr>\n",
              "      <th>2154</th>\n",
              "      <td>2347</td>\n",
              "      <td>291</td>\n",
              "    </tr>\n",
              "    <tr>\n",
              "      <th>1373</th>\n",
              "      <td>1888</td>\n",
              "      <td>254</td>\n",
              "    </tr>\n",
              "    <tr>\n",
              "      <th>1285</th>\n",
              "      <td>1800</td>\n",
              "      <td>245</td>\n",
              "    </tr>\n",
              "    <tr>\n",
              "      <th>1149</th>\n",
              "      <td>1663</td>\n",
              "      <td>235</td>\n",
              "    </tr>\n",
              "  </tbody>\n",
              "</table>\n",
              "</div>"
            ],
            "text/plain": [
              "      Node  Degree\n",
              "107    107    1045\n",
              "351   1684     792\n",
              "352   1912     755\n",
              "1821  3437     547\n",
              "0        0     347\n",
              "1490  2543     294\n",
              "2154  2347     291\n",
              "1373  1888     254\n",
              "1285  1800     245\n",
              "1149  1663     235"
            ]
          },
          "metadata": {
            "tags": []
          },
          "execution_count": 11
        }
      ]
    },
    {
      "cell_type": "code",
      "metadata": {
        "colab": {
          "base_uri": "https://localhost:8080/",
          "height": 343
        },
        "id": "uMcsTNzLIp2w",
        "outputId": "51aeb80b-1af6-414a-cb42-7d8fffb08d9e"
      },
      "source": [
        "# Calculate Degree Centrality of this Graph and input to Dataframe\n",
        "df_dc = pd.DataFrame(dict(\n",
        "    Degree = dict(G.degree),\n",
        "    Degree_Centrality = nx.degree_centrality(G)\n",
        "))\n",
        "df_dc.sort_values(by=['Degree_Centrality'], inplace=True, ascending=False)\n",
        "print('Top 10 Influential User')\n",
        "df_dc.head(10)"
      ],
      "execution_count": 10,
      "outputs": [
        {
          "output_type": "execute_result",
          "data": {
            "text/html": [
              "<div>\n",
              "<style scoped>\n",
              "    .dataframe tbody tr th:only-of-type {\n",
              "        vertical-align: middle;\n",
              "    }\n",
              "\n",
              "    .dataframe tbody tr th {\n",
              "        vertical-align: top;\n",
              "    }\n",
              "\n",
              "    .dataframe thead th {\n",
              "        text-align: right;\n",
              "    }\n",
              "</style>\n",
              "<table border=\"1\" class=\"dataframe\">\n",
              "  <thead>\n",
              "    <tr style=\"text-align: right;\">\n",
              "      <th></th>\n",
              "      <th>Degree</th>\n",
              "      <th>Degree_Centrality</th>\n",
              "    </tr>\n",
              "  </thead>\n",
              "  <tbody>\n",
              "    <tr>\n",
              "      <th>107</th>\n",
              "      <td>1045</td>\n",
              "      <td>0.258791</td>\n",
              "    </tr>\n",
              "    <tr>\n",
              "      <th>1684</th>\n",
              "      <td>792</td>\n",
              "      <td>0.196137</td>\n",
              "    </tr>\n",
              "    <tr>\n",
              "      <th>1912</th>\n",
              "      <td>755</td>\n",
              "      <td>0.186974</td>\n",
              "    </tr>\n",
              "    <tr>\n",
              "      <th>3437</th>\n",
              "      <td>547</td>\n",
              "      <td>0.135463</td>\n",
              "    </tr>\n",
              "    <tr>\n",
              "      <th>0</th>\n",
              "      <td>347</td>\n",
              "      <td>0.085934</td>\n",
              "    </tr>\n",
              "    <tr>\n",
              "      <th>2543</th>\n",
              "      <td>294</td>\n",
              "      <td>0.072808</td>\n",
              "    </tr>\n",
              "    <tr>\n",
              "      <th>2347</th>\n",
              "      <td>291</td>\n",
              "      <td>0.072065</td>\n",
              "    </tr>\n",
              "    <tr>\n",
              "      <th>1888</th>\n",
              "      <td>254</td>\n",
              "      <td>0.062902</td>\n",
              "    </tr>\n",
              "    <tr>\n",
              "      <th>1800</th>\n",
              "      <td>245</td>\n",
              "      <td>0.060674</td>\n",
              "    </tr>\n",
              "    <tr>\n",
              "      <th>1663</th>\n",
              "      <td>235</td>\n",
              "      <td>0.058197</td>\n",
              "    </tr>\n",
              "  </tbody>\n",
              "</table>\n",
              "</div>"
            ],
            "text/plain": [
              "      Degree  Degree_Centrality\n",
              "107     1045           0.258791\n",
              "1684     792           0.196137\n",
              "1912     755           0.186974\n",
              "3437     547           0.135463\n",
              "0        347           0.085934\n",
              "2543     294           0.072808\n",
              "2347     291           0.072065\n",
              "1888     254           0.062902\n",
              "1800     245           0.060674\n",
              "1663     235           0.058197"
            ]
          },
          "metadata": {
            "tags": []
          },
          "execution_count": 10
        }
      ]
    },
    {
      "cell_type": "code",
      "metadata": {
        "id": "q1PmaTfNQxIQ",
        "colab": {
          "base_uri": "https://localhost:8080/",
          "height": 454
        },
        "outputId": "89f1a166-4f73-4b86-a75d-6175e572dc4b"
      },
      "source": [
        "top = dataframe.iloc[0]\n",
        "print(\"The Most influential User based on SNAP Facebook Dataset \\nis Facebook Account with ID\",top[0],\"and have\",top[1],\"\\nFriends in his/her Facebook Account\")\n",
        "\n",
        "def listTopFriends(user):\n",
        "  topFriends = []\n",
        "  for friends in G.neighbors(top[0]):\n",
        "    topFriends.append(friends)\n",
        "  return topFriends\n",
        "\n",
        "temanInfluencer = listTopFriends(top[0])\n",
        "dataTeman = {'Friends List': temanInfluencer}\n",
        "df_friends = pd.DataFrame(dataTeman)\n",
        "df_friends"
      ],
      "execution_count": 4,
      "outputs": [
        {
          "output_type": "stream",
          "text": [
            "The Most influential User based on SNAP Facebook Dataset \n",
            "is Facebook Account with ID 107 and have 1045 \n",
            "Friends in his/her Facebook Account\n"
          ],
          "name": "stdout"
        },
        {
          "output_type": "execute_result",
          "data": {
            "text/html": [
              "<div>\n",
              "<style scoped>\n",
              "    .dataframe tbody tr th:only-of-type {\n",
              "        vertical-align: middle;\n",
              "    }\n",
              "\n",
              "    .dataframe tbody tr th {\n",
              "        vertical-align: top;\n",
              "    }\n",
              "\n",
              "    .dataframe thead th {\n",
              "        text-align: right;\n",
              "    }\n",
              "</style>\n",
              "<table border=\"1\" class=\"dataframe\">\n",
              "  <thead>\n",
              "    <tr style=\"text-align: right;\">\n",
              "      <th></th>\n",
              "      <th>Friends List</th>\n",
              "    </tr>\n",
              "  </thead>\n",
              "  <tbody>\n",
              "    <tr>\n",
              "      <th>0</th>\n",
              "      <td>0</td>\n",
              "    </tr>\n",
              "    <tr>\n",
              "      <th>1</th>\n",
              "      <td>58</td>\n",
              "    </tr>\n",
              "    <tr>\n",
              "      <th>2</th>\n",
              "      <td>171</td>\n",
              "    </tr>\n",
              "    <tr>\n",
              "      <th>3</th>\n",
              "      <td>348</td>\n",
              "    </tr>\n",
              "    <tr>\n",
              "      <th>4</th>\n",
              "      <td>353</td>\n",
              "    </tr>\n",
              "    <tr>\n",
              "      <th>...</th>\n",
              "      <td>...</td>\n",
              "    </tr>\n",
              "    <tr>\n",
              "      <th>1040</th>\n",
              "      <td>1907</td>\n",
              "    </tr>\n",
              "    <tr>\n",
              "      <th>1041</th>\n",
              "      <td>1908</td>\n",
              "    </tr>\n",
              "    <tr>\n",
              "      <th>1042</th>\n",
              "      <td>1909</td>\n",
              "    </tr>\n",
              "    <tr>\n",
              "      <th>1043</th>\n",
              "      <td>1910</td>\n",
              "    </tr>\n",
              "    <tr>\n",
              "      <th>1044</th>\n",
              "      <td>1911</td>\n",
              "    </tr>\n",
              "  </tbody>\n",
              "</table>\n",
              "<p>1045 rows × 1 columns</p>\n",
              "</div>"
            ],
            "text/plain": [
              "      Friends List\n",
              "0                0\n",
              "1               58\n",
              "2              171\n",
              "3              348\n",
              "4              353\n",
              "...            ...\n",
              "1040          1907\n",
              "1041          1908\n",
              "1042          1909\n",
              "1043          1910\n",
              "1044          1911\n",
              "\n",
              "[1045 rows x 1 columns]"
            ]
          },
          "metadata": {
            "tags": []
          },
          "execution_count": 4
        }
      ]
    },
    {
      "cell_type": "code",
      "metadata": {
        "colab": {
          "base_uri": "https://localhost:8080/",
          "height": 248
        },
        "id": "vaxYtz3xNP4D",
        "outputId": "6f2d0fbc-9403-4ddd-9f87-a32813fe094a"
      },
      "source": [
        "# Now Let's Draw the Influencer's Network\n",
        "node = top[0]\n",
        "topGraph = nx.ego_graph(G,node)\n",
        "color_map = []\n",
        "for node in topGraph:\n",
        "    if node == top[0]:\n",
        "        color_map.append('red')\n",
        "    else: \n",
        "        color_map.append('blue')\n",
        "nx.draw_networkx(topGraph, pos=pos, with_labels=False, node_size=35, node_color=color_map, edgecolors='black')"
      ],
      "execution_count": 20,
      "outputs": [
        {
          "output_type": "display_data",
          "data": {
            "image/png": "[encoded data removed]",
            "text/plain": [
              "<Figure size 432x288 with 1 Axes>"
            ]
          },
          "metadata": {
            "tags": []
          }
        }
      ]
    }
  ]
}